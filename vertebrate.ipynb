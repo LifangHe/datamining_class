{
 "cells": [
  {
   "cell_type": "markdown",
   "metadata": {},
   "source": [
    "## Classification using vertebrate data set"
   ]
  },
  {
   "cell_type": "code",
   "execution_count": 1,
   "metadata": {
    "collapsed": false
   },
   "outputs": [],
   "source": [
    "%matplotlib inline\n",
    "\n",
    "import pandas as pd\n",
    "import numpy as np\n",
    "import matplotlib.pyplot as plt"
   ]
  },
  {
   "cell_type": "code",
   "execution_count": 2,
   "metadata": {
    "collapsed": true
   },
   "outputs": [],
   "source": [
    "# Read the CSV file\n",
    "data = pd.read_csv('data/vertebrate/data.csv')"
   ]
  },
  {
   "cell_type": "code",
   "execution_count": 3,
   "metadata": {
    "collapsed": false
   },
   "outputs": [
    {
     "data": {
      "text/html": [
       "<div style=\"max-height:1000px;max-width:1500px;overflow:auto;\">\n",
       "<table border=\"1\" class=\"dataframe\">\n",
       "  <thead>\n",
       "    <tr style=\"text-align: right;\">\n",
       "      <th></th>\n",
       "      <th>Name</th>\n",
       "      <th>Body Temperature</th>\n",
       "      <th>Skin Cover</th>\n",
       "      <th>Gives Birth</th>\n",
       "      <th>Aquatic Creature</th>\n",
       "      <th>Aerial Creature</th>\n",
       "      <th>Has Legs</th>\n",
       "      <th>Hibernates</th>\n",
       "      <th>Class Label</th>\n",
       "    </tr>\n",
       "  </thead>\n",
       "  <tbody>\n",
       "    <tr>\n",
       "      <th>0</th>\n",
       "      <td>  human</td>\n",
       "      <td> warm-blooded</td>\n",
       "      <td>   hair</td>\n",
       "      <td> yes</td>\n",
       "      <td>   no</td>\n",
       "      <td> no</td>\n",
       "      <td> yes</td>\n",
       "      <td>  no</td>\n",
       "      <td>    mammal</td>\n",
       "    </tr>\n",
       "    <tr>\n",
       "      <th>1</th>\n",
       "      <td> python</td>\n",
       "      <td> cold-blooded</td>\n",
       "      <td> scales</td>\n",
       "      <td>  no</td>\n",
       "      <td>   no</td>\n",
       "      <td> no</td>\n",
       "      <td>  no</td>\n",
       "      <td> yes</td>\n",
       "      <td>   reptile</td>\n",
       "    </tr>\n",
       "    <tr>\n",
       "      <th>2</th>\n",
       "      <td> salmon</td>\n",
       "      <td> cold-blooded</td>\n",
       "      <td> scales</td>\n",
       "      <td>  no</td>\n",
       "      <td>  yes</td>\n",
       "      <td> no</td>\n",
       "      <td>  no</td>\n",
       "      <td>  no</td>\n",
       "      <td>      fish</td>\n",
       "    </tr>\n",
       "    <tr>\n",
       "      <th>3</th>\n",
       "      <td>  whale</td>\n",
       "      <td> warm-blooded</td>\n",
       "      <td>   hair</td>\n",
       "      <td> yes</td>\n",
       "      <td>  yes</td>\n",
       "      <td> no</td>\n",
       "      <td>  no</td>\n",
       "      <td>  no</td>\n",
       "      <td>    mammal</td>\n",
       "    </tr>\n",
       "    <tr>\n",
       "      <th>4</th>\n",
       "      <td>   frog</td>\n",
       "      <td> cold-blooded</td>\n",
       "      <td>   none</td>\n",
       "      <td>  no</td>\n",
       "      <td> semi</td>\n",
       "      <td> no</td>\n",
       "      <td> yes</td>\n",
       "      <td> yes</td>\n",
       "      <td> amphibian</td>\n",
       "    </tr>\n",
       "  </tbody>\n",
       "</table>\n",
       "</div>"
      ],
      "text/plain": [
       "     Name Body Temperature Skin Cover Gives Birth Aquatic Creature  \\\n",
       "0   human     warm-blooded       hair         yes               no   \n",
       "1  python     cold-blooded     scales          no               no   \n",
       "2  salmon     cold-blooded     scales          no              yes   \n",
       "3   whale     warm-blooded       hair         yes              yes   \n",
       "4    frog     cold-blooded       none          no             semi   \n",
       "\n",
       "  Aerial Creature Has Legs Hibernates Class Label  \n",
       "0              no      yes         no      mammal  \n",
       "1              no       no        yes     reptile  \n",
       "2              no       no         no        fish  \n",
       "3              no       no         no      mammal  \n",
       "4              no      yes        yes   amphibian  "
      ]
     },
     "execution_count": 3,
     "metadata": {},
     "output_type": "execute_result"
    }
   ],
   "source": [
    "data.head()"
   ]
  },
  {
   "cell_type": "code",
   "execution_count": 4,
   "metadata": {
    "collapsed": false
   },
   "outputs": [
    {
     "data": {
      "text/plain": [
       "0        mammal\n",
       "1       reptile\n",
       "2          fish\n",
       "3        mammal\n",
       "4     amphibian\n",
       "5       reptile\n",
       "6        mammal\n",
       "7          bird\n",
       "8        mammal\n",
       "9          fish\n",
       "10      reptile\n",
       "11         bird\n",
       "12       mammal\n",
       "13         fish\n",
       "14    amphibian\n",
       "Name: Class Label, dtype: object"
      ]
     },
     "execution_count": 4,
     "metadata": {},
     "output_type": "execute_result"
    }
   ],
   "source": [
    "# List of all classes\n",
    "data['Class Label']"
   ]
  },
  {
   "cell_type": "code",
   "execution_count": 5,
   "metadata": {
    "collapsed": false
   },
   "outputs": [
    {
     "data": {
      "text/plain": [
       "array(['mammal', 'reptile', 'fish', 'amphibian', 'bird'], dtype=object)"
      ]
     },
     "execution_count": 5,
     "metadata": {},
     "output_type": "execute_result"
    }
   ],
   "source": [
    "# List of unique classes\n",
    "data['Class Label'].unique()"
   ]
  },
  {
   "cell_type": "code",
   "execution_count": 6,
   "metadata": {
    "collapsed": false
   },
   "outputs": [
    {
     "data": {
      "text/plain": [
       "Class Label\n",
       "amphibian      2\n",
       "bird           2\n",
       "fish           3\n",
       "mammal         5\n",
       "reptile        3\n",
       "dtype: int64"
      ]
     },
     "execution_count": 6,
     "metadata": {},
     "output_type": "execute_result"
    }
   ],
   "source": [
    "# Number of entries for each unique classes\n",
    "data.groupby('Class Label').apply(lambda x: len(x))"
   ]
  },
  {
   "cell_type": "code",
   "execution_count": 7,
   "metadata": {
    "collapsed": false
   },
   "outputs": [
    {
     "data": {
      "text/plain": [
       "<matplotlib.axes._subplots.AxesSubplot at 0x7f8ecd011b90>"
      ]
     },
     "execution_count": 7,
     "metadata": {},
     "output_type": "execute_result"
    },
    {
     "data": {
      "image/png": "[encoded data removed]",
      "text/plain": [
       "<matplotlib.figure.Figure at 0x7f8eacde8390>"
      ]
     },
     "metadata": {},
     "output_type": "display_data"
    }
   ],
   "source": [
    "# Plot bar chart based on Class Label\n",
    "data.groupby('Class Label').apply(lambda x: len(x)).plot(kind='bar')"
   ]
  },
  {
   "cell_type": "code",
   "execution_count": 8,
   "metadata": {
    "collapsed": false
   },
   "outputs": [],
   "source": [
    "# X = data.as_matrix(columns=['Name', 'Body Temperature', 'Skin Cover', 'Gives Birth', 'Aquatic Creature', 'Aerial Creature', 'Has Legs', 'Hibernates'])\n",
    "# Y = data.as_matrix(columns=['Class Label'])\n",
    "\n",
    "# X = data.values[:,:-1]\n",
    "# Y = data.values[:,-1]\n",
    "Y = np.array([4, 5, 3, 4, 1, 5, 4, 2, 4, 3, 5, 2, 4, 3, 1])"
   ]
  },
  {
   "cell_type": "code",
   "execution_count": 9,
   "metadata": {
    "collapsed": false
   },
   "outputs": [],
   "source": [
    "from sklearn import tree\n",
    "from sklearn.feature_extraction import DictVectorizer"
   ]
  },
  {
   "cell_type": "code",
   "execution_count": 10,
   "metadata": {
    "collapsed": false
   },
   "outputs": [],
   "source": [
    "cols_to_retain = ['Name', 'Body Temperature', 'Skin Cover', 'Gives Birth', 'Aquatic Creature', 'Aerial Creature', 'Has Legs', 'Hibernates']\n",
    "X_feature = data[cols_to_retain]\n",
    "X_dict = X_feature.T.to_dict().values()"
   ]
  },
  {
   "cell_type": "code",
   "execution_count": 11,
   "metadata": {
    "collapsed": false
   },
   "outputs": [],
   "source": [
    "#X1 = [dict(enumerate(X)) for sample in X]\n",
    "# turn list of dicts into a numpy array\n",
    "vect = DictVectorizer(sparse=False)\n",
    "X_int = vect.fit_transform(X_dict)"
   ]
  },
  {
   "cell_type": "code",
   "execution_count": 12,
   "metadata": {
    "collapsed": false
   },
   "outputs": [],
   "source": [
    "#Y_label = data['Class Label']\n",
    "#Y"
   ]
  },
  {
   "cell_type": "code",
   "execution_count": 13,
   "metadata": {
    "collapsed": false
   },
   "outputs": [],
   "source": [
    "clf = tree.DecisionTreeClassifier()\n",
    "clf = clf.fit(X_int,Y)"
   ]
  }
 ],
 "metadata": {
  "kernelspec": {
   "display_name": "Python 2",
   "language": "python",
   "name": "python2"
  },
  "language_info": {
   "codemirror_mode": {
    "name": "ipython",
    "version": 2
   },
   "file_extension": ".py",
   "mimetype": "text/x-python",
   "name": "python",
   "nbconvert_exporter": "python",
   "pygments_lexer": "ipython2",
   "version": "2.7.6"
  }
 },
 "nbformat": 4,
 "nbformat_minor": 0
}
